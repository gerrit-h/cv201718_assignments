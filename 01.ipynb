{
 "cells": [
  {
   "cell_type": "markdown",
   "metadata": {},
   "source": [
    "# Assignment 1"
   ]
  },
  {
   "cell_type": "markdown",
   "metadata": {},
   "source": [
    "## Exercise 1.1"
   ]
  },
  {
   "cell_type": "markdown",
   "metadata": {},
   "source": [
    "rough sketch for ex 1.2:\n",
    "\n",
    "1. define the „positive“ subspace P in the RGB cube\n",
    "2. iterate over all pixels in I and check if in P or ~P\n",
    "3. write result to new image\n",
    "4. play around with size and shape of P and display binary image (**RESULT**)\n",
    "\n"
   ]
  },
  {
   "cell_type": "code",
   "execution_count": 2,
   "metadata": {},
   "outputs": [
    {
     "data": {
      "text/plain": [
       "<matplotlib.image.AxesImage at 0x1c1c70c8d0>"
      ]
     },
     "execution_count": 2,
     "metadata": {},
     "output_type": "execute_result"
    },
    {
     "data": {
      "image/png": "[encoded data removed]",
      "text/plain": [
       "<matplotlib.figure.Figure at 0x1c1c6ed400>"
      ]
     },
     "metadata": {},
     "output_type": "display_data"
    }
   ],
   "source": [
    "from skimage import io, data, color\n",
    "import numpy as np\n",
    "import warnings\n",
    "\n",
    "warnings.filterwarnings(\"ignore\")\n",
    "\n",
    "image = io.imread('images/mutze.jpg')\n",
    "\n",
    "subspace_min = np.array([0,0,0])\n",
    "subspace_max = np.array([110,110,255])\n",
    "\n",
    "image_width = len(image[0])\n",
    "image_height = len(image)\n",
    "\n",
    "binary_image = np.zeros((image_height, image_width, 3), dtype=np.uint8)\n",
    "\n",
    "for y in range(image_height):\n",
    "    for x in range(image_width):\n",
    "        p = image[y,x]\n",
    "        if (subspace_min[0] < p[0] < subspace_max[0]) and (subspace_min[1] < p[1] < subspace_max[1]) and (subspace_min[2] < p[2] < subspace_max[2]):\n",
    "            binary_image[y,x] = np.array([255,255,255])\n",
    "\n",
    "        \n",
    "io.imshow(binary_image)"
   ]
  },
  {
   "cell_type": "markdown",
   "metadata": {},
   "source": [
    "## Exercise 1.2"
   ]
  },
  {
   "cell_type": "markdown",
   "metadata": {},
   "source": [
    "* starting from the binary color detection image\n",
    "* erase noise with an erosion operation\n",
    "* dilate once to get original size of object\n",
    "* find connected components with one-pass algorithm\n",
    "* extract bounding box on the fly\n",
    "* draw bounding box on original image (**RESULT**)"
   ]
  },
  {
   "cell_type": "code",
   "execution_count": 3,
   "metadata": {},
   "outputs": [
    {
     "data": {
      "text/plain": [
       "<matplotlib.image.AxesImage at 0x1c1c93acf8>"
      ]
     },
     "execution_count": 3,
     "metadata": {},
     "output_type": "execute_result"
    },
    {
     "data": {
      "image/png": "[encoded data removed]",
      "text/plain": [
       "<matplotlib.figure.Figure at 0x1c1c6e6ac8>"
      ]
     },
     "metadata": {},
     "output_type": "display_data"
    }
   ],
   "source": [
    "black = np.array([0,0,0])\n",
    "white = np.array([255,255,255])\n",
    "dilated_image = binary_image.copy()\n",
    "\n",
    "def dilate(x,y):\n",
    "    if np.array_equal(dilated_image[y, x], white):\n",
    "        return    \n",
    "    for j in range(-1, 2):\n",
    "        for i in range(-1, 2):\n",
    "            if abs(j) == abs(i):\n",
    "                continue\n",
    "            xi = x + i\n",
    "            yj = y + j\n",
    "\n",
    "            if 0 <= xi < image_width and 0 <= yj < image_height:\n",
    "                if np.array_equal(binary_image[yj, xi], white):\n",
    "                    dilated_image[y,x] = white\n",
    "                    return\n",
    "\n",
    "for y in range(image_height):\n",
    "    for x in range(image_width):\n",
    "        dilate(x,y)\n",
    "\n",
    "io.imshow(dilated_image)\n",
    "\n",
    "eroded_image = dilated_image.copy()\n",
    "\n",
    "def erode(x,y):\n",
    "    if np.array_equal(eroded_image[y, x], black):\n",
    "        return\n",
    "    for j in range(-1, 2):\n",
    "        for i in range(-1, 2):\n",
    "            if abs(j) == abs(i):\n",
    "                continue\n",
    "            xi = x + i\n",
    "            yj = y + j\n",
    "\n",
    "            if 0 <= xi < image_width and 0 <= yj < image_height:\n",
    "                if np.array_equal(dilated_image[yj, xi], black):\n",
    "                    eroded_image[y,x] = black\n",
    "                    return\n",
    "\n",
    "for y in range(image_height):\n",
    "    for x in range(image_width):\n",
    "        erode(x,y)\n",
    "\n",
    "io.imshow(eroded_image)"
   ]
  },
  {
   "cell_type": "markdown",
   "metadata": {},
   "source": [
    "## Exercise 1.3"
   ]
  },
  {
   "cell_type": "markdown",
   "metadata": {},
   "source": [
    "* use your color detection and connected components algorithm\n",
    "* implement simplest tracking algorithm\n",
    "* draw history of all previous points on frame (**RESULT**)\n",
    "\n",
    "(see images/racecar or images/taco for sample image sequences)"
   ]
  },
  {
   "cell_type": "code",
   "execution_count": null,
   "metadata": {},
   "outputs": [],
   "source": []
  }
 ],
 "metadata": {
  "kernelspec": {
   "display_name": "Python 3",
   "language": "python",
   "name": "python3"
  },
  "language_info": {
   "codemirror_mode": {
    "name": "ipython",
    "version": 3
   },
   "file_extension": ".py",
   "mimetype": "text/x-python",
   "name": "python",
   "nbconvert_exporter": "python",
   "pygments_lexer": "ipython3",
   "version": "3.6.4"
  }
 },
 "nbformat": 4,
 "nbformat_minor": 2
}
